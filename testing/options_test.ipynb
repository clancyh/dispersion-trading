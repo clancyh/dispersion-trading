{
 "cells": [
  {
   "cell_type": "code",
   "execution_count": 1,
   "metadata": {},
   "outputs": [
    {
     "ename": "FileNotFoundError",
     "evalue": "Historical data for SPY not found. Please run datagrab.r first.",
     "output_type": "error",
     "traceback": [
      "\u001b[1;31m---------------------------------------------------------------------------\u001b[0m",
      "\u001b[1;31mFileNotFoundError\u001b[0m                         Traceback (most recent call last)",
      "Cell \u001b[1;32mIn[1], line 12\u001b[0m\n\u001b[0;32m      9\u001b[0m option_type \u001b[38;5;241m=\u001b[39m \u001b[38;5;124m\"\u001b[39m\u001b[38;5;124mcall\u001b[39m\u001b[38;5;124m\"\u001b[39m\n\u001b[0;32m     11\u001b[0m \u001b[38;5;66;03m# Price the option using default Black-Scholes model\u001b[39;00m\n\u001b[1;32m---> 12\u001b[0m option_price \u001b[38;5;241m=\u001b[39m \u001b[43mprice_options\u001b[49m\u001b[43m(\u001b[49m\u001b[43mticker\u001b[49m\u001b[38;5;241;43m=\u001b[39;49m\u001b[43mticker\u001b[49m\u001b[43m,\u001b[49m\n\u001b[0;32m     13\u001b[0m \u001b[43m                           \u001b[49m\u001b[43mcurrent_date\u001b[49m\u001b[38;5;241;43m=\u001b[39;49m\u001b[43mcurrent_date\u001b[49m\u001b[43m,\u001b[49m\n\u001b[0;32m     14\u001b[0m \u001b[43m                           \u001b[49m\u001b[43mexpiration_date\u001b[49m\u001b[38;5;241;43m=\u001b[39;49m\u001b[43mexpiration_date\u001b[49m\u001b[43m,\u001b[49m\u001b[43m \u001b[49m\n\u001b[0;32m     15\u001b[0m \u001b[43m                           \u001b[49m\u001b[43mstrike_price\u001b[49m\u001b[38;5;241;43m=\u001b[39;49m\u001b[43mstrike_price\u001b[49m\u001b[43m,\u001b[49m\n\u001b[0;32m     16\u001b[0m \u001b[43m                           \u001b[49m\u001b[43moption_type\u001b[49m\u001b[38;5;241;43m=\u001b[39;49m\u001b[43moption_type\u001b[49m\u001b[43m)\u001b[49m\n\u001b[0;32m     18\u001b[0m \u001b[38;5;28mprint\u001b[39m(\u001b[38;5;124mf\u001b[39m\u001b[38;5;124m\"\u001b[39m\u001b[38;5;124mPrice of \u001b[39m\u001b[38;5;132;01m{\u001b[39;00mticker\u001b[38;5;132;01m}\u001b[39;00m\u001b[38;5;124m \u001b[39m\u001b[38;5;132;01m{\u001b[39;00moption_type\u001b[38;5;132;01m}\u001b[39;00m\u001b[38;5;124m option:\u001b[39m\u001b[38;5;124m\"\u001b[39m)\n\u001b[0;32m     19\u001b[0m \u001b[38;5;28mprint\u001b[39m(\u001b[38;5;124mf\u001b[39m\u001b[38;5;124m\"\u001b[39m\u001b[38;5;124mStrike: $\u001b[39m\u001b[38;5;132;01m{\u001b[39;00mstrike_price\u001b[38;5;132;01m}\u001b[39;00m\u001b[38;5;124m\"\u001b[39m)\n",
      "File \u001b[1;32mc:\\Users\\theji\\OneDrive\\Documents\\GitHub\\dispersion-trading\\backtester\\options_pricer.py:52\u001b[0m, in \u001b[0;36mprice_options\u001b[1;34m(ticker, current_date, expiration_date, strike_price, option_type, model, risk_free_rate, steps)\u001b[0m\n\u001b[0;32m     50\u001b[0m data_file \u001b[38;5;241m=\u001b[39m \u001b[38;5;124mf\u001b[39m\u001b[38;5;124m'\u001b[39m\u001b[38;5;124mdata/processed/\u001b[39m\u001b[38;5;132;01m{\u001b[39;00mticker\u001b[38;5;132;01m}\u001b[39;00m\u001b[38;5;124m.csv\u001b[39m\u001b[38;5;124m'\u001b[39m\n\u001b[0;32m     51\u001b[0m \u001b[38;5;28;01mif\u001b[39;00m \u001b[38;5;129;01mnot\u001b[39;00m os\u001b[38;5;241m.\u001b[39mpath\u001b[38;5;241m.\u001b[39mexists(data_file):\n\u001b[1;32m---> 52\u001b[0m     \u001b[38;5;28;01mraise\u001b[39;00m \u001b[38;5;167;01mFileNotFoundError\u001b[39;00m(\u001b[38;5;124mf\u001b[39m\u001b[38;5;124m\"\u001b[39m\u001b[38;5;124mHistorical data for \u001b[39m\u001b[38;5;132;01m{\u001b[39;00mticker\u001b[38;5;132;01m}\u001b[39;00m\u001b[38;5;124m not found. Please run datagrab.r first.\u001b[39m\u001b[38;5;124m\"\u001b[39m)\n\u001b[0;32m     54\u001b[0m \u001b[38;5;66;03m# Load the historical data for the ticker\u001b[39;00m\n\u001b[0;32m     55\u001b[0m data \u001b[38;5;241m=\u001b[39m pd\u001b[38;5;241m.\u001b[39mread_csv(data_file)\n",
      "\u001b[1;31mFileNotFoundError\u001b[0m: Historical data for SPY not found. Please run datagrab.r first."
     ]
    }
   ],
   "source": [
    "# Import required function\n",
    "from options_pricer import price_options\n",
    "\n",
    "# Set parameters\n",
    "ticker = \"SPY\"\n",
    "current_date = \"2022-01-10\"\n",
    "expiration_date = \"2023-02-17\" \n",
    "strike_price = 565\n",
    "option_type = \"call\"\n",
    "\n",
    "# Price the option using default Black-Scholes model\n",
    "option_price = price_options(ticker=ticker,\n",
    "                           current_date=current_date,\n",
    "                           expiration_date=expiration_date, \n",
    "                           strike_price=strike_price,\n",
    "                           option_type=option_type)\n",
    "\n",
    "print(f\"Price of {ticker} {option_type} option:\")\n",
    "print(f\"Strike: ${strike_price}\")\n",
    "print(f\"Expiration: {expiration_date}\")\n",
    "print(f\"Price: ${option_price:.2f}\")\n"
   ]
  }
 ],
 "metadata": {
  "kernelspec": {
   "display_name": "Python 3",
   "language": "python",
   "name": "python3"
  },
  "language_info": {
   "codemirror_mode": {
    "name": "ipython",
    "version": 3
   },
   "file_extension": ".py",
   "mimetype": "text/x-python",
   "name": "python",
   "nbconvert_exporter": "python",
   "pygments_lexer": "ipython3",
   "version": "3.13.2"
  }
 },
 "nbformat": 4,
 "nbformat_minor": 2
}
