{
 "cells": [
  {
   "cell_type": "code",
   "execution_count": 22,
   "metadata": {},
   "outputs": [
    {
     "name": "stdout",
     "output_type": "stream",
     "text": [
      "Current working directory: c:\\Users\\theji\\OneDrive\\Documents\\GitHub\\dispersion-trading\n"
     ]
    }
   ],
   "source": [
    "# Import required function\n",
    "from backtester.options_pricer import price_options\n",
    "from backtester.volatility import calculate_implied_volatilities\n",
    "# ensure that the current working directory is the project root\n",
    "import os\n",
    "os.chdir('/Users/theji/OneDrive/Documents/GitHub/dispersion-trading')\n",
    "print(f\"Current working directory: {os.getcwd()}\")\n"
   ]
  },
  {
   "cell_type": "code",
   "execution_count": 25,
   "metadata": {},
   "outputs": [
    {
     "name": "stdout",
     "output_type": "stream",
     "text": [
      "Price of SPY call option:\n",
      "Strike: $565\n",
      "Expiration: 2023-02-17\n",
      "Price: $7.52\n",
      "{'SPY': np.float64(0.19399999618530295), 'C': np.float64(0.2893855126810066)}\n"
     ]
    }
   ],
   "source": [
    "\n",
    "# Set parameters\n",
    "ticker = \"SPY\"\n",
    "current_date = \"2022-01-10\"\n",
    "expiration_date = \"2023-02-17\" \n",
    "strike_price = 565\n",
    "option_type = \"call\"\n",
    "\n",
    "# Price the option using default Black-Scholes model\n",
    "option_price = price_options(ticker=ticker,\n",
    "                           current_date=current_date,\n",
    "                           expiration_date=expiration_date, \n",
    "                           strike_price=strike_price,\n",
    "                           option_type=option_type)\n",
    "\n",
    "print(f\"Price of {ticker} {option_type} option:\")\n",
    "print(f\"Strike: ${strike_price}\")\n",
    "print(f\"Expiration: {expiration_date}\")\n",
    "print(f\"Price: ${option_price:.2f}\")\n",
    "\n",
    "implied_vols = calculate_implied_volatilities('SPY', 'C', current_date)\n",
    "print(implied_vols)\n"
   ]
  }
 ],
 "metadata": {
  "kernelspec": {
   "display_name": "Python 3",
   "language": "python",
   "name": "python3"
  },
  "language_info": {
   "codemirror_mode": {
    "name": "ipython",
    "version": 3
   },
   "file_extension": ".py",
   "mimetype": "text/x-python",
   "name": "python",
   "nbconvert_exporter": "python",
   "pygments_lexer": "ipython3",
   "version": "3.13.2"
  }
 },
 "nbformat": 4,
 "nbformat_minor": 2
}
